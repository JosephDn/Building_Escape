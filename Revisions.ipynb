{
  "nbformat": 4,
  "nbformat_minor": 0,
  "metadata": {
    "kernelspec": {
      "display_name": "Python 3",
      "language": "python",
      "name": "python3"
    },
    "language_info": {
      "codemirror_mode": {
        "name": "ipython",
        "version": 3
      },
      "file_extension": ".py",
      "mimetype": "text/x-python",
      "name": "python",
      "nbconvert_exporter": "python",
      "pygments_lexer": "ipython3",
      "version": "3.7.10"
    },
    "colab": {
      "name": "Revisions.ipynb",
      "provenance": []
    }
  },
  "cells": [
    {
      "cell_type": "markdown",
      "metadata": {
        "id": "LThpZFMrqqJ2"
      },
      "source": [
        "# Setting things up\n",
        "\n",
        "This year we will be using three concepts of modern computing which will make working remotely more feasible. Interactive coding (with [Jupyter notebooks](https://jupyter.org/)), cloud computing (with [Google Colab](https://colab.research.google.com/)), and version control (with [Github](https://github.com/)).\n",
        "\n",
        "Bellow is the guide you will have to follow. Do ask questions if things are not clear ! You will have to use two _free_ accounts, one for [GitHub](https://github.com/) and one for [Google Colab](https://colab.research.google.com/).\n",
        "\n",
        "To get started:\n",
        "1. Setting up your access to the GitHub classroom.\n",
        "    1. Sign up to a _free_ account on [GitHub](https://github.com/). Pick a username that starts with `Lastname-Firstname-`.\n",
        "    2. Get the `week1_revision` assignment link from [LearningCentral](https://learningcentral.cf.ac.uk/) to accept the first assignment.\n",
        "    3. The first time you accept an assignment from [GitHub Classroom](classroom.github.com) you will have to `Authorize GitHub Classroom` in your GitHub account by clicking the green \"Authorize github\" button: ![Autorize github](https://raw.githubusercontent.com/PX2134/images/master/week1/Authorize_github.png)\n",
        "    4. Next you can \"Accept this assignment\": ![Accept this assignment](https://raw.githubusercontent.com/PX2134/images/master/week1/Accept_this_assignment.png)\n",
        "    5. Finally, you should see the \"Ready to go\" page: ![ready to go](https://raw.githubusercontent.com/PX2134/images/master/week1/ready_to_go.png)\n",
        "    6. Click on the link for your \"repository\" to get started.\n",
        "2. Now that you have access to the worksheet, let's set things up so you can run _in the cloud_ (on a remote computer without your direct management).\n",
        "    1. Sign up to a _free_ [account](https://accounts.google.com/sigNup) on Google if you don't have one.\n",
        "    2. Navigate to https://colab.research.google.com. You will land by default on the [introduction](https://colab.research.google.com/notebooks/intro.ipynb) page. Read it, and read the [overview](https://colab.research.google.com/notebooks/basic_features_overview.ipynb) page, it's a good introduction to how Jupyter notebooks work, and in particular how they are run on Google colab.\n",
        "    3. Now that you have an understanding of Jupyter notebooks, we will load this week's worksheet in colab. On https://colab.research.google.com sign in with your Google account using the blue button in the top right: ![Welcome to colab](https://raw.githubusercontent.com/PX2134/images/master/week1/Welcome_to_colab.png)\n",
        "    4. In the menu, click on \"File\" -> \"Open Notebook\". The following should appear: ![New file](https://raw.githubusercontent.com/PX2134/images/master/week1/New_file.png)\n",
        "    5. On that window, click on the \"Github\" tab, and tick the \"Include private repos\" box. This will prompt an authorization pop-up. **Important**: you need to allow pop-up windows in your browser for colab.research.google.com. ![Authorize googlecolab](https://raw.githubusercontent.com/PX2134/images/master/week1/Authorize_googlecolab.png)\n",
        "    6. Confirm your **GitHub** password to give googlecolab access to your GitHub account: ![Confirm password](https://raw.githubusercontent.com/PX2134/images/master/week1/Confirm_password.png)\n",
        "    7. You should now able to access the assignment directly in google colab, on your own copy which includes your github username in the name: ![open github](https://raw.githubusercontent.com/PX2134/images/master/week1/open_github.png)\n",
        "    8. Click on `Revision.ipynb` to open the worksheet in google colab, where you can run it and modify it. You can also open the exercise sheets from the same screen. **To submit your changes back to GitHub for checking, go to \"File\" -> \"Save a copy in GitHub\"**. You should do this often: some assignments come with tests that are run on GitHub and let you know how you are doing. See [GitHub classroom autograding test](https://classroom.github.com/help/reviewing-auto-graded-work-students) for details. **Only the very last version saved on GitHub before the deadline will be assessed.**.\n",
        "\n",
        "# Why such a set-up?\n",
        "\n",
        "We are working online \"in the cloud\", and this is how almost all modern computing is done: both in scientific research and industrial applications. As such, in addition to make online working easier, we are taking this opportunity to get used to this concept in practice.\n",
        "\n",
        "Jupyter notebooks are used in many applications, from machine learning to scientific publications, and in particular within all fields of data science. For instance, Gravitational-wave observations are shared with Jupyter notebooks, e.g. [GW190814](https://dcc.ligo.org/P2000183/public). Google, IBM, Microsoft use it regularly. It's a very good way to share computational ideas with rich documentation (using [markdown](https://colab.research.google.com/notebooks/markdown_guide.ipynb)), and is in particular great for plotting.\n",
        "**However**:\n",
        "* Do be careful of \"hidden state\" (same as with the `IPython` interpreter you use with `Spyder`): do make sure your code works in a new _clean_ environment, as it might be remembering variables or functions whose code you deleted. In Colab: `Runtime`->`restart Runtime`, in Anaconda's Jupyter: `Kernel`->`Restart`. The possibility to execute cells in different order is very flexible but dangerous (with great power ...). To help you out, the notebooks are being run from scratch automatically each time you submit your work. Again, only the very last submission is ever assessed.\n",
        "* In addition, do note that if you end up doing a *lot* of coding, notebooks are not the right place where to do it. They are instead where you use software libraries develloped directly in python. This modular approach will be shown in week2.\n",
        "\n",
        "Version control system, such as the open-source `git` software, are ubiquitous in modern software engineering. GitHub happens to be one of the most used online service that hosts a `git` system. Think of pretty much any open-source code that you use: `numpy`, `matplotlib`, `scipy`, ... they are all available on GitHub. Employers will accept someone's GitHub history as a demonstration of coding proficiency.\n",
        "\n",
        "# Notes:\n",
        "\n",
        "1. You can use your own installation of [Jupyter notebooks](https://jupyter.org/), for instance with [Anaconda3](https://www.anaconda.com/distribution/#download-section). In which case you can use the GitHub web-interface for each assignments to download the worksheets and upload your solutions. You might also find [GitHub Desktop](https://desktop.github.com/) convenient. However Google Colab  does guarantee a working environment, where submitting assignments is straightforward.\n",
        "2. The google colab [overview](https://colab.research.google.com/notebooks/basic_features_overview.ipynb) is a good starting point for Jupyter notebooks.\n",
        "3. For future assignments, you will only need to go through steps:\n",
        "   * 1.B get the assignment link from Learning Central\n",
        "   * 1.D click on \"Accept this assignment\"\n",
        "   * 1.F click on the repository link\n",
        "   * 2.B got to colab.research.google.com\n",
        "   * 2.D,E open the assigment in colab\n",
        "3. Be careful about your environment remembering variables. Make sure your code works in a new _clean_ environment. In Colab: `Runtime`->`restart Runtime`, in Anaconda's Jupyter: `Kernel`->`Restart`.\n",
        "4. Always explore the options of Python functions using the in-built help or refer to https://docs.scipy.org/ and https://www.python.org/doc/.\n",
        "\n",
        "For this week we will use the following imports:"
      ]
    },
    {
      "cell_type": "code",
      "metadata": {
        "id": "kAjH6TCrqqJ9"
      },
      "source": [
        "from numpy import linspace, loadtxt, savetxt, column_stack\n",
        "from numpy.random import rand\n",
        "from matplotlib.pyplot import savefig, plot, xlabel, ylabel\n",
        "\n",
        "# NOTE1: Do avoid the `import *` command: this causes you do not\n",
        "# know anymore what is loaded in your environment. It is better\n",
        "# to be explicit.\n",
        "\n",
        "# NOTE2: now that we have imported those packages and modules to this\n",
        "# worksheet, they are available throughout, so no need to re-import\n",
        "# them for each exercise below.\n",
        "\n",
        "# NOTE3: You may want to use additional imports to do the exercises at the end\n",
        "# of the worksheet."
      ],
      "execution_count": null,
      "outputs": []
    },
    {
      "cell_type": "markdown",
      "metadata": {
        "id": "2l8VGEsMqqJ-"
      },
      "source": [
        "# Introduction\n",
        "\n",
        "As it might have been some time since you last did some Python programming, we start by revising the core material you will have covered last year. Remember, there is plenty of online documentation and examples which you should look at, especially The [Python Tutorial](http://docs.python.org/tutorial/), on which much of this material is based.\n",
        "You should try out the following code snippets and make sure you understand them. Then work through the Worksheet, which will help consolidate the Python programming you did in PX1224.\n",
        "\n",
        "## `if` statements"
      ]
    },
    {
      "cell_type": "code",
      "metadata": {
        "id": "vcfGgEaPqqJ_",
        "outputId": "a033fbb3-cb82-44c5-a19c-26d7d91ac399"
      },
      "source": [
        "x, y = 10, 11 # try various values here\n",
        "if x < y:\n",
        "    print ('x is less than y')\n",
        "elif x > y:\n",
        "    print ('x is greater than y')\n",
        "else:\n",
        "    print ('x equals y')\n",
        "\n",
        "if x != y:\n",
        "    print('x is not equal to y')"
      ],
      "execution_count": null,
      "outputs": [
        {
          "name": "stdout",
          "output_type": "stream",
          "text": [
            "x is less than y\n",
            "x is not equal to y\n"
          ]
        }
      ]
    },
    {
      "cell_type": "code",
      "metadata": {
        "id": "A742QyPUqqKA",
        "outputId": "56942fd6-6ba7-4edf-ecb3-2d221bb234f6"
      },
      "source": [
        "x = rand()  # generates a single random number between 0 and 1\n",
        "if x < 0.1:\n",
        "    x = 0\n",
        "    print('x less than 0.1. Changed to zero', x)\n",
        "elif x < 0.3:\n",
        "    print('x less than 0.3', x)\n",
        "else:\n",
        "    print('x greater than 0.3', x)"
      ],
      "execution_count": null,
      "outputs": [
        {
          "name": "stdout",
          "output_type": "stream",
          "text": [
            "x greater than 0.3 0.9241583910836461\n"
          ]
        }
      ]
    },
    {
      "cell_type": "markdown",
      "metadata": {
        "id": "Q888TOdfqqKA"
      },
      "source": [
        "## `while` loop\n",
        "What does the code below do? Modify it to run the previous if statement code multiple\n",
        "times."
      ]
    },
    {
      "cell_type": "code",
      "metadata": {
        "id": "DO1FiVp3qqKB",
        "outputId": "e6a0a687-99f7-41d6-c72b-0b4377bdaf89"
      },
      "source": [
        "n=0             # starting number\n",
        "counter=0       # iteration number\n",
        "while n<0.99:   # running the following until n >= 0.99\n",
        "    n = rand()  # get a random number between 0 and 1\n",
        "    counter+=1  # increase the counter by one\n",
        "\n",
        "print(\"Got n={:.4f} after {} tries\".format(n,counter))"
      ],
      "execution_count": null,
      "outputs": [
        {
          "name": "stdout",
          "output_type": "stream",
          "text": [
            "Got n=0.9956 after 27 tries\n"
          ]
        }
      ]
    },
    {
      "cell_type": "markdown",
      "metadata": {
        "id": "Pxz-CcTbqqKC"
      },
      "source": [
        "You might want to break out of the while loop. One way is something like this:"
      ]
    },
    {
      "cell_type": "code",
      "metadata": {
        "id": "yAdlcY_HqqKC",
        "outputId": "84b25a22-d3fa-4bc6-af75-0ecd1b4b2ffa"
      },
      "source": [
        "n=0\n",
        "counter=0\n",
        "max_counter=100\n",
        "while n<0.99:\n",
        "    n = rand()\n",
        "    counter+=1\n",
        "    if counter > max_counter:\n",
        "        print(\"It's taking longer than {} tries, exiting while loop.\".format(max_counter))\n",
        "        break\n",
        "print(counter,n)"
      ],
      "execution_count": null,
      "outputs": [
        {
          "name": "stdout",
          "output_type": "stream",
          "text": [
            "46 0.9901459319769613\n"
          ]
        }
      ]
    },
    {
      "cell_type": "markdown",
      "metadata": {
        "id": "MW9mwOOeqqKD"
      },
      "source": [
        "You can also ask the user for input, in which case the syntax ```while True:```, which causes the code to run uninterupted, can be useful:\n",
        "```python\n",
        "print(\"Type 'quit' to quit !\")\n",
        "while True:\n",
        "    a = input()\n",
        "    print (a)\n",
        "    if a = 'quit':\n",
        "        break\n",
        "```\n"
      ]
    },
    {
      "cell_type": "markdown",
      "metadata": {
        "id": "blbE89tzqqKD"
      },
      "source": [
        "## `for` loop\n",
        "\n",
        "We all love for loops. IMPORTANT - make sure you fully understand a for loop."
      ]
    },
    {
      "cell_type": "code",
      "metadata": {
        "id": "8nQUvHHSqqKD",
        "outputId": "e2cfa49c-8fc5-4a60-de1d-6cf0c321aadf"
      },
      "source": [
        "for i in range(1, 10):\n",
        "    print(i)\n",
        "    print((i**2))"
      ],
      "execution_count": null,
      "outputs": [
        {
          "name": "stdout",
          "output_type": "stream",
          "text": [
            "1\n",
            "1\n",
            "2\n",
            "4\n",
            "3\n",
            "9\n",
            "4\n",
            "16\n",
            "5\n",
            "25\n",
            "6\n",
            "36\n",
            "7\n",
            "49\n",
            "8\n",
            "64\n",
            "9\n",
            "81\n"
          ]
        }
      ]
    },
    {
      "cell_type": "markdown",
      "metadata": {
        "id": "4IZ4L2_5qqKF"
      },
      "source": [
        "Verify what the range function does. What is the starting and ending value of i? How can you step in different increments? How can you step through non-integer values?\n",
        "Read also https://docs.python.org/3/tutorial/controlflow.html#for-statements. (This page talks about lists because, remember, arrays are a feature of NumPy rather than Python itself.)"
      ]
    },
    {
      "cell_type": "markdown",
      "metadata": {
        "id": "sh8cAiXsqqKF"
      },
      "source": [
        "## Lists and list comprehension\n",
        "\n",
        "You’ll remember that you can make a list of anything (often numbers in our applications) like this for example:"
      ]
    },
    {
      "cell_type": "code",
      "metadata": {
        "id": "nKAZWiLPqqKF",
        "outputId": "9634bd2e-0cd4-46d0-f33b-734dcc848574"
      },
      "source": [
        "a = [1, 2, 'red', 'green']\n",
        "print (a, len(a))\n",
        "print (a[2])\n",
        "print (2*a)"
      ],
      "execution_count": null,
      "outputs": [
        {
          "name": "stdout",
          "output_type": "stream",
          "text": [
            "[1, 2, 'red', 'green'] 4\n",
            "red\n",
            "[1, 2, 'red', 'green', 1, 2, 'red', 'green']\n"
          ]
        }
      ]
    },
    {
      "cell_type": "markdown",
      "metadata": {
        "id": "_HhLlVY0qqKF"
      },
      "source": [
        "Note that 2*a just doubles the list – it doesn’t double the value of each item.\n",
        "\n",
        "NEW: Here’s a simple way to make a list of items, which you have not met before, but can be very handy:"
      ]
    },
    {
      "cell_type": "code",
      "metadata": {
        "id": "rZENLsSUqqKG",
        "outputId": "24615e6d-052c-42a8-fc80-f6261b6a5616"
      },
      "source": [
        "a = [i for i in range(10)] # list comprehension print (a)\n",
        "a = [float(i*i) for i in range(10)]\n",
        "print (a)\n",
        "a = [float(i*i + 3) for i in range(10) if i % 2 == 0]"
      ],
      "execution_count": null,
      "outputs": [
        {
          "name": "stdout",
          "output_type": "stream",
          "text": [
            "[0.0, 1.0, 4.0, 9.0, 16.0, 25.0, 36.0, 49.0, 64.0, 81.0]\n"
          ]
        }
      ]
    },
    {
      "cell_type": "markdown",
      "metadata": {
        "id": "sPUlgypOqqKG"
      },
      "source": [
        "The last example selects even values of i only.\n",
        "\n",
        "## Arrays (part of numpy)\n",
        "\n",
        "Look at week 2 of the PX1224 notes to remind yourself about more details. For now, make sure you can generate a numpy array in the following way:"
      ]
    },
    {
      "cell_type": "code",
      "metadata": {
        "id": "vSVZvR-ZqqKG",
        "outputId": "f04a0da3-cb13-4faa-a635-2ee98df75528"
      },
      "source": [
        "a_min, a_max, n = 0, 1, 11\n",
        "a = linspace (a_min , a_max , n)\n",
        "print (a)"
      ],
      "execution_count": null,
      "outputs": [
        {
          "name": "stdout",
          "output_type": "stream",
          "text": [
            "[0.  0.1 0.2 0.3 0.4 0.5 0.6 0.7 0.8 0.9 1. ]\n"
          ]
        }
      ]
    },
    {
      "cell_type": "markdown",
      "metadata": {
        "id": "fKFNsqNiqqKH"
      },
      "source": [
        "Try this out for different values and print to the screen.\n",
        "\n",
        "## Writing and reading arrays to/from files\n",
        "\n",
        "See also [numpy.loadtxt](http://docs.scipy.org/doc/numpy/reference/generated/numpy.loadtxt.html). Use a text editor (you can do this in Spyder itself) to write several lines of data to a file. Then look at the following code snippets. Make sure you follow what they do.\n",
        "\n",
        "Read data from the file [data.txt](https://raw.githubusercontent.com/PX2134/data/master/week1/data.txt) into an array y, and skip the first row.\n",
        "**Note**: to upload the data to colab, either download onto your computer and right-click \"upload\" on the folder menu in the left-hand side bar, or run:\n",
        "```\n",
        "! wget <link to file>\n",
        "```\n",
        "e.g.:"
      ]
    },
    {
      "cell_type": "code",
      "metadata": {
        "id": "9HrJjhZnqqKH"
      },
      "source": [
        "! wget -q https://raw.githubusercontent.com/PX2134/data/master/week1/data.txt"
      ],
      "execution_count": null,
      "outputs": []
    },
    {
      "cell_type": "code",
      "metadata": {
        "id": "FPQi42RSqqKH"
      },
      "source": [
        "y = loadtxt('data.txt', skiprows=1)"
      ],
      "execution_count": null,
      "outputs": []
    },
    {
      "cell_type": "markdown",
      "metadata": {
        "id": "7p96WG5pqqKH"
      },
      "source": [
        "Read data from a file object `f` into an array a"
      ]
    },
    {
      "cell_type": "code",
      "metadata": {
        "id": "t5l-DyQGqqKH"
      },
      "source": [
        "f=open('data.txt')\n",
        "y=loadtxt(f)"
      ],
      "execution_count": null,
      "outputs": []
    },
    {
      "cell_type": "markdown",
      "metadata": {
        "id": "7uYJw3uZqqKI"
      },
      "source": [
        "Create an array y and write it into a file named `data2.txt`, specifying a different `delimiter`:"
      ]
    },
    {
      "cell_type": "code",
      "metadata": {
        "id": "BSYjwBkcqqKI"
      },
      "source": [
        "savetxt('data2.txt', y, delimiter=',')"
      ],
      "execution_count": null,
      "outputs": []
    },
    {
      "cell_type": "markdown",
      "metadata": {
        "id": "H_wwJQugqqKI"
      },
      "source": [
        "Take a look at the resulting text file by opening it with the Spyder editor.\n",
        "\n",
        "## NEW: Pandas\n",
        "\n",
        "There is a Python module called pandas which you might find useful for reading and handling data.\n",
        "You can find out more at http://pandas.pydata.org/ and a short introduction at http://pythonhow.com/data-analysis-with-python-pandas. This is not a requirement for the rest of the course, but just one more way to do things which you might find interesting.\n",
        "\n",
        "\n",
        "For example, it is easy to read the csv (comma separated variable) formatted file `example.csv`. As before, either download and upload [example.csv](https://raw.githubusercontent.com/PX2134/data/master/week1/example.csv) yourself, or:"
      ]
    },
    {
      "cell_type": "code",
      "metadata": {
        "id": "LlAEfMx4qqKI"
      },
      "source": [
        "! wget -q https://raw.githubusercontent.com/PX2134/data/master/week1/example.csv"
      ],
      "execution_count": null,
      "outputs": []
    },
    {
      "cell_type": "markdown",
      "metadata": {
        "id": "sc6pDs-qqqKI"
      },
      "source": [
        "To read it in, you can simply do:"
      ]
    },
    {
      "cell_type": "code",
      "metadata": {
        "id": "tvv_g01nqqKI"
      },
      "source": [
        "import pandas as pd # useful for reading csv data files\n",
        "df = pd.read_csv('example.csv')"
      ],
      "execution_count": null,
      "outputs": []
    },
    {
      "cell_type": "code",
      "metadata": {
        "id": "MhLj2P-aqqKJ",
        "outputId": "aa426215-b611-423c-f17c-7ebf75092ee9"
      },
      "source": [
        "df"
      ],
      "execution_count": null,
      "outputs": [
        {
          "data": {
            "text/html": [
              "<div>\n",
              "<style scoped>\n",
              "    .dataframe tbody tr th:only-of-type {\n",
              "        vertical-align: middle;\n",
              "    }\n",
              "\n",
              "    .dataframe tbody tr th {\n",
              "        vertical-align: top;\n",
              "    }\n",
              "\n",
              "    .dataframe thead th {\n",
              "        text-align: right;\n",
              "    }\n",
              "</style>\n",
              "<table border=\"1\" class=\"dataframe\">\n",
              "  <thead>\n",
              "    <tr style=\"text-align: right;\">\n",
              "      <th></th>\n",
              "      <th>A</th>\n",
              "      <th>B</th>\n",
              "    </tr>\n",
              "  </thead>\n",
              "  <tbody>\n",
              "    <tr>\n",
              "      <th>0</th>\n",
              "      <td>1</td>\n",
              "      <td>1.0</td>\n",
              "    </tr>\n",
              "    <tr>\n",
              "      <th>1</th>\n",
              "      <td>2</td>\n",
              "      <td>4.0</td>\n",
              "    </tr>\n",
              "    <tr>\n",
              "      <th>2</th>\n",
              "      <td>3</td>\n",
              "      <td>9.0</td>\n",
              "    </tr>\n",
              "    <tr>\n",
              "      <th>3</th>\n",
              "      <td>4</td>\n",
              "      <td>16.0</td>\n",
              "    </tr>\n",
              "    <tr>\n",
              "      <th>4</th>\n",
              "      <td>5</td>\n",
              "      <td>25.0</td>\n",
              "    </tr>\n",
              "  </tbody>\n",
              "</table>\n",
              "</div>"
            ],
            "text/plain": [
              "   A     B\n",
              "0  1   1.0\n",
              "1  2   4.0\n",
              "2  3   9.0\n",
              "3  4  16.0\n",
              "4  5  25.0"
            ]
          },
          "execution_count": 15,
          "metadata": {},
          "output_type": "execute_result"
        }
      ]
    },
    {
      "cell_type": "markdown",
      "metadata": {
        "id": "QgbKmX05qqKJ"
      },
      "source": [
        "The variable df now contains all the data in the form of a `dataframe`. It is fairly easy to select the columns of data and to plot them out.\n",
        "If the csv file first line is a data header, as for [example.csv](https://raw.githubusercontent.com/PX2134/data/master/week1/example.csv), it is easy to refer to the columns using the header name."
      ]
    },
    {
      "cell_type": "code",
      "metadata": {
        "id": "l_WtjJIEqqKJ",
        "outputId": "f1de98a2-5ddc-4ac4-928e-c1620595e245"
      },
      "source": [
        "print(df)\n",
        "df.plot() # plots both columns versus the index\n",
        "savefig('example.pdf')\n",
        "#clf() # depending on your set-up, you may need to clear the current figure with clf()\n",
        "df.plot(y='B')\n",
        "savefig('example2.pdf')\n",
        "#clf()"
      ],
      "execution_count": null,
      "outputs": [
        {
          "name": "stdout",
          "output_type": "stream",
          "text": [
            "   A     B\n",
            "0  1   1.0\n",
            "1  2   4.0\n",
            "2  3   9.0\n",
            "3  4  16.0\n",
            "4  5  25.0\n"
          ]
        },
        {
          "data": {
            "image/png": "[encoded data removed]",
            "text/plain": [
              "<Figure size 432x288 with 1 Axes>"
            ]
          },
          "metadata": {},
          "output_type": "display_data"
        },
        {
          "data": {
            "image/png": "[encoded data removed]",
            "text/plain": [
              "<Figure size 432x288 with 1 Axes>"
            ]
          },
          "metadata": {},
          "output_type": "display_data"
        }
      ]
    },
    {
      "cell_type": "markdown",
      "metadata": {
        "id": "BPibvM23qqKJ"
      },
      "source": [
        "Take a look at the file `example.csv` by opening it directly. You can also select which data to plot like this:"
      ]
    },
    {
      "cell_type": "code",
      "metadata": {
        "id": "WGRqv5pTqqKJ",
        "outputId": "6a78b3fd-1bcc-4916-d25f-e29232881fec"
      },
      "source": [
        "df.plot(x='A', y='B') \n",
        "df.plot(x='B', y='A')"
      ],
      "execution_count": null,
      "outputs": [
        {
          "data": {
            "text/plain": [
              "<matplotlib.axes._subplots.AxesSubplot at 0x1133864a8>"
            ]
          },
          "execution_count": 18,
          "metadata": {},
          "output_type": "execute_result"
        },
        {
          "data": {
            "image/png": "[encoded data removed]",
            "text/plain": [
              "<Figure size 432x288 with 1 Axes>"
            ]
          },
          "metadata": {},
          "output_type": "display_data"
        },
        {
          "data": {
            "image/png": "[encoded data removed]",
            "text/plain": [
              "<Figure size 432x288 with 1 Axes>"
            ]
          },
          "metadata": {},
          "output_type": "display_data"
        }
      ]
    },
    {
      "cell_type": "markdown",
      "metadata": {
        "id": "lltH4U1mqqKK"
      },
      "source": [
        "Or like that:"
      ]
    },
    {
      "cell_type": "code",
      "metadata": {
        "id": "e37wx__GqqKK",
        "outputId": "d0429f03-d49b-4414-9849-863b63649320"
      },
      "source": [
        "plot(df.A,df.B)\n",
        "xlabel('A')\n",
        "ylabel('B')"
      ],
      "execution_count": null,
      "outputs": [
        {
          "data": {
            "text/plain": [
              "Text(0,0.5,'B')"
            ]
          },
          "execution_count": 19,
          "metadata": {},
          "output_type": "execute_result"
        },
        {
          "data": {
            "image/png": "[encoded data removed]",
            "text/plain": [
              "<Figure size 432x288 with 1 Axes>"
            ]
          },
          "metadata": {},
          "output_type": "display_data"
        }
      ]
    },
    {
      "cell_type": "markdown",
      "metadata": {
        "id": "Vtas59KsqqKK"
      },
      "source": [
        "The `dataframe` object itself can also be manipulated:"
      ]
    },
    {
      "cell_type": "code",
      "metadata": {
        "id": "XmCYnlx7qqKK",
        "outputId": "4fbfa981-a1a2-4832-fc11-a3a4deadbeb5"
      },
      "source": [
        "df = df[['A']] # df contains just the 'A' column now \n",
        "df.plot() # plot all of df"
      ],
      "execution_count": null,
      "outputs": [
        {
          "data": {
            "text/plain": [
              "<matplotlib.axes._subplots.AxesSubplot at 0x113401080>"
            ]
          },
          "execution_count": 20,
          "metadata": {},
          "output_type": "execute_result"
        },
        {
          "data": {
            "image/png": "[encoded data removed]",
            "text/plain": [
              "<Figure size 432x288 with 1 Axes>"
            ]
          },
          "metadata": {},
          "output_type": "display_data"
        }
      ]
    },
    {
      "cell_type": "markdown",
      "metadata": {
        "id": "U4EanibhqqKK"
      },
      "source": [
        "# Exercises\n",
        "\n",
        "This must be marked before you leave the lab. Mark weighting is in brackets.\n",
        "**Please save the programs that you write to solve the exercises. We may ask you to show us the code and run it to re-generate the results.** Do add comments to your code, you'll lose points if your code is hard to understand. Graphs without labels (or units when appropriate) are not worth any point.\n",
        "\n",
        "For this first week, the mark is for your information only, and will **not** count towards your overall mark for this class.\n",
        "\n",
        "## Exercise 0a\n",
        "[0] Compute the first 20 Fibonacci numbers. Save the result to a file called `Fibonacci.txt`\n",
        "\n",
        "(exercises 0 are for demonstration purposes and won't be marked)"
      ]
    },
    {
      "cell_type": "code",
      "metadata": {
        "id": "5jAzYyo9qqKL"
      },
      "source": [
        ""
      ],
      "execution_count": null,
      "outputs": []
    },
    {
      "cell_type": "markdown",
      "metadata": {
        "id": "7PbEM0EZqqKL"
      },
      "source": [
        "## Exercise 0b\n",
        "[0] Read the result file `Fibonacci.txt` you created in the last exercise. From that data, plot the ratio of consecutive numbers in the Fibonacci sequence.\n",
        "\n",
        "(exercises 0 are for demonstration purposes and won't be marked)"
      ]
    },
    {
      "cell_type": "code",
      "metadata": {
        "id": "3LFXzR6MqqKL"
      },
      "source": [
        ""
      ],
      "execution_count": null,
      "outputs": []
    },
    {
      "cell_type": "markdown",
      "metadata": {
        "id": "I95bD930qqKL"
      },
      "source": [
        "## Exercise 1\n",
        "[2] Create two (equal length) arrays x_data and y_data within Python, and then save them to a file `data_ex.txt`. Remember that you can \"stack\" two 1-D arrays into a 2-D array with:\n",
        "```python\n",
        "c = column_stack([x_data, y_data])\n",
        "```\n",
        "Use x_data values 1, 2, 3, 4, 5. The y_data values should be 1.0, 3.9, 9.0, 16.2, 25.1."
      ]
    },
    {
      "cell_type": "code",
      "metadata": {
        "id": "Jz2x4GApqqKM",
        "outputId": "c7d378fe-44e8-4c27-e344-a340c0fc2238",
        "colab": {
          "base_uri": "https://localhost:8080/"
        }
      },
      "source": [
        "from pylab import *\n",
        "\n",
        "x_data = [1,2,3,4,5]\n",
        "y_data = [1.0,3.9,9.0,16.2,25.1]\n",
        "\n",
        "c = column_stack([x_data, y_data])\n",
        "\n",
        "savetxt( \"data_ex.txt\", c)"
      ],
      "execution_count": 13,
      "outputs": [
        {
          "output_type": "stream",
          "name": "stdout",
          "text": [
            "[[ 1.   1. ]\n",
            " [ 2.   3.9]\n",
            " [ 3.   9. ]\n",
            " [ 4.  16.2]\n",
            " [ 5.  25.1]]\n"
          ]
        }
      ]
    },
    {
      "cell_type": "markdown",
      "metadata": {
        "id": "ZX6oyPwDqqKM"
      },
      "source": [
        "## Exercise 2\n",
        "[4] Read in the data file `data_ex.txt` created in [Exercise 1](Exercise_1.ipynb) and plot a graph of the data as red points. (To access the file, you can download it to your computer from Exercise_1, and upload it on this notebook with the left-hand side menu). On the same graph plot the function $y = x^2$ as a blue line."
      ]
    },
    {
      "cell_type": "code",
      "metadata": {
        "id": "xgltaoWNqqKM",
        "outputId": "89ce0076-2b7b-4aa1-e856-6e46c3bfe3a0",
        "colab": {
          "base_uri": "https://localhost:8080/",
          "height": 330
        }
      },
      "source": [
        "data1 = loadtxt(\"data_ex.txt\")\n",
        "\n",
        "x_data = data1[:,0]\n",
        "y_data = data1[:,1]\n",
        "\n",
        "plot(x_data, y_data, 'r.')\n",
        "plot(x_data, x_data**2, 'b')\n",
        "xlabel(\"x\")\n",
        "ylabel(\"y\")"
      ],
      "execution_count": 33,
      "outputs": [
        {
          "output_type": "stream",
          "name": "stdout",
          "text": [
            "[1. 2. 3. 4. 5.]\n",
            "[ 1.   3.9  9.  16.2 25.1]\n"
          ]
        },
        {
          "output_type": "execute_result",
          "data": {
            "text/plain": [
              "Text(0, 0.5, 'y')"
            ]
          },
          "metadata": {},
          "execution_count": 33
        },
        {
          "output_type": "display_data",
          "data": {
            "image/png": "[encoded data removed]",
            "text/plain": [
              "<Figure size 432x288 with 1 Axes>"
            ]
          },
          "metadata": {
            "needs_background": "light"
          }
        }
      ]
    },
    {
      "cell_type": "markdown",
      "metadata": {
        "id": "RbQwvq7PqqKN"
      },
      "source": [
        "## Exercise 3 \n",
        "[2] Plot the 2-D function $z = sin(x)sin(y-1)$ using `imshow()` (x,y and z are unrelated to the previous questions). Use mgrid or ogrid to create a 2D data array. (Set the origin to the lower left corner.)"
      ]
    },
    {
      "cell_type": "code",
      "metadata": {
        "id": "02lYxAfAqqKN",
        "outputId": "d9fd992c-152d-49ce-f332-f912dc265bf0",
        "colab": {
          "base_uri": "https://localhost:8080/",
          "height": 265
        }
      },
      "source": [
        "x_data, y_data = mgrid[-pi:pi:0.1, -pi:pi:0.1]\n",
        "\n",
        "z = sin(x_data)*sin(y_data - 1)\n",
        "imshow(z, origin='lower');\n",
        "colorbar();"
      ],
      "execution_count": 95,
      "outputs": [
        {
          "output_type": "display_data",
          "data": {
            "image/png": "[encoded data removed]",
            "text/plain": [
              "<Figure size 432x288 with 2 Axes>"
            ]
          },
          "metadata": {
            "needs_background": "light"
          }
        }
      ]
    },
    {
      "cell_type": "markdown",
      "metadata": {
        "id": "cPTBMNcBqqKN"
      },
      "source": [
        "## Exercise 4\n",
        "[7] Read in the data file `speed.txt` of the speed of an object versus time. To upload this file to colab, either download onto your computer and right-click \"upload\" on the folder menu in the left-hand side bar, or run:\n",
        "```\n",
        "! wget <link to file>\n",
        "```\n",
        "e.g.:\n",
        "\n",
        "```python\n",
        "! wget -q https://raw.githubusercontent.com/PX2134/data/master/week1/speed.txt\n",
        "```"
      ]
    },
    {
      "cell_type": "markdown",
      "metadata": {
        "id": "0DApZcJzqqKN"
      },
      "source": [
        "Plot a graph to show the object’s position versus time. (Label axes etc. ...). You will need to integrate the speed (in the simplest way possible) to get the position."
      ]
    },
    {
      "cell_type": "code",
      "metadata": {
        "id": "lZ23qbn_qqKN",
        "outputId": "358ef592-c3da-4cc4-94a7-f0eac0f60589",
        "colab": {
          "base_uri": "https://localhost:8080/",
          "height": 279
        }
      },
      "source": [
        "import scipy.integrate as it\n",
        "\n",
        "dataset = loadtxt(\"speed.txt\", skiprows = 1, delimiter = ',')\n",
        "time = dataset[:,0]\n",
        "speed = dataset[:,1]\n",
        "position = it.cumtrapz(speed, time, initial = 0)\n",
        "\n",
        "plot(time, position);\n",
        "xlabel(\"Time\");\n",
        "ylabel(\"Position\");"
      ],
      "execution_count": 86,
      "outputs": [
        {
          "output_type": "display_data",
          "data": {
            "image/png": "[encoded data removed]",
            "text/plain": [
              "<Figure size 432x288 with 1 Axes>"
            ]
          },
          "metadata": {
            "needs_background": "light"
          }
        }
      ]
    },
    {
      "cell_type": "markdown",
      "metadata": {
        "id": "GtsWg-SZqqKN"
      },
      "source": [
        "## Exercise 5 \n",
        "[5] Read in the file [gridwatch.csv](https://raw.githubusercontent.com/PX2134/data/master/week1/gridwatch.csv) which was obtained from the web site http://www.gridwatch.templar.co.uk. To upload this file to colab, either download onto your computer and right-click \"upload\" on the folder menu in the left-hand side bar, or run:\n",
        "```\n",
        "! wget <link to file>\n",
        "```\n",
        "e.g.:\n",
        "```python\n",
        "! wget -q https://raw.githubusercontent.com/PX2134/data/master/week1/gridwatch.csv\n",
        "```"
      ]
    },
    {
      "cell_type": "markdown",
      "metadata": {
        "id": "PvnAlEZhqqKN"
      },
      "source": [
        "To read in a csv (comma separated variable) file which contains dates like this one does, you can use:\n",
        "```python\n",
        "df = pd.read_csv('gridwatch.csv', parse_dates=['timestamp'])\n",
        "```\n",
        "Plot, on a single graph, the power usage (in MW) versus time for coal and wind\n",
        "energy. Save to file a plot like this:\n",
        "\n",
        "![UK power production](https://raw.githubusercontent.com/PX2134/images/master/week1/gridwatch.png \"Figure 1: UK power production versus time for coal and wind.\")"
      ]
    },
    {
      "cell_type": "code",
      "metadata": {
        "id": "VSGv51F_qqKO",
        "outputId": "ab595eb9-457b-4367-ef32-94e3bffa0116",
        "colab": {
          "base_uri": "https://localhost:8080/",
          "height": 279
        }
      },
      "source": [
        "import pandas as pd\n",
        "df = pd.read_csv('gridwatch.csv', parse_dates=['timestamp']);\n",
        "df.plot(x='timestamp', y =['coal','wind']);\n",
        "\n",
        "xlabel(\"Time\");\n",
        "ylabel(\"Power / MW\");\n",
        "\n"
      ],
      "execution_count": 93,
      "outputs": [
        {
          "output_type": "display_data",
          "data": {
            "image/png": "[encoded data removed]",
            "text/plain": [
              "<Figure size 432x288 with 1 Axes>"
            ]
          },
          "metadata": {
            "needs_background": "light"
          }
        }
      ]
    },
    {
      "cell_type": "markdown",
      "metadata": {
        "id": "Oh89f9rIqqKO"
      },
      "source": [
        "# Optional extra exercises\n",
        "\n",
        "Those are optional and will **not** be marked."
      ]
    },
    {
      "cell_type": "markdown",
      "metadata": {
        "id": "f7Dhqyo2qqKO"
      },
      "source": [
        "## Extra 1\n",
        "Write a `while loop` that tests the [Collatz conjecture](https://en.wikipedia.org/wiki/Collatz_conjecture) (see [this video](https://www.youtube.com/watch?v=094y1Z2wpJg) for a quick description) on a given input number. You should implement a break condition as for some numbers the sequence can be very long...\n",
        "\n",
        "## Extra 2\n",
        "Write a small gaming program that first generates a random number between 1 and 9 (try with integers as well as floating point numbers). The program should then ask the user to guess what the number is, and tell them whether their guess is correct, too high or too low. In addition:\n",
        "  - keep the game going until the user types \"exit\" (add that string to the documentation for your program!).\n",
        "  - keep track of how many guesses the user has taken, and when the game ends, print it out.\n",
        "  \n",
        "## Extra 3\n",
        "How about a nice game of ... hangman ! Have the program set a word, and ask the user to guess letters within a fixed number of turns.\n",
        "\n",
        "## Extra 4\n",
        "Text-based adventure game ! There are many such classics, you should be able to make your own ! To make it more user-friendly, instead of checking that the user typed exactly \"yes\" or \"left\" or \"sword\", you can set-up list of possible answers, e.g.:\n",
        "```python\n",
        "yes = [\"Y\", \"y\", \"yes\", \"yeah\", \"yup\"]\n",
        "no = [\"N\", \"n\", \"no\", \"nope\"]\n",
        "```\n",
        "And check whether the input text is in the list `yes` or the list `no`."
      ]
    },
    {
      "cell_type": "code",
      "metadata": {
        "id": "gdwdwjARqqKO"
      },
      "source": [
        ""
      ],
      "execution_count": null,
      "outputs": []
    }
  ]
}